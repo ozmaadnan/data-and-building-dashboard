{
  "nbformat": 4,
  "nbformat_minor": 0,
  "metadata": {
    "colab": {
      "provenance": [],
      "include_colab_link": true
    },
    "kernelspec": {
      "name": "python3",
      "display_name": "Python 3"
    },
    "language_info": {
      "name": "python"
    }
  },
  "cells": [
    {
      "cell_type": "markdown",
      "metadata": {
        "id": "view-in-github",
        "colab_type": "text"
      },
      "source": [
        "<a href=\"https://colab.research.google.com/github/ozmaadnan/data-and-building-dashboard/blob/main/Group_2_PepsiCo.ipynb\" target=\"_parent\"><img src=\"https://colab.research.google.com/assets/colab-badge.svg\" alt=\"Open In Colab\"/></a>"
      ]
    },
    {
      "cell_type": "code",
      "execution_count": null,
      "metadata": {
        "id": "tLg59fi9JzT4"
      },
      "outputs": [],
      "source": [
        "%matplotlib inline\n",
        "\n",
        "import matplotlib as mpl\n",
        "import matplotlib.pyplot as plt"
      ]
    },
    {
      "cell_type": "code",
      "source": [
        "import numpy as np  # useful for many scientific computing in Python\n",
        "import pandas as pd # primary data structure library"
      ],
      "metadata": {
        "id": "iKMIoBlGKK50"
      },
      "execution_count": null,
      "outputs": []
    },
    {
      "cell_type": "code",
      "source": [
        "df_pepsi = pd.read_csv('pepsico_products.csv')\n",
        "\n",
        "print('Pepsi, the choice of a new generation!')"
      ],
      "metadata": {
        "colab": {
          "base_uri": "https://localhost:8080/"
        },
        "id": "kwITqsNRKLmE",
        "outputId": "2314ba8b-7dd9-4a58-e190-8a06a4ff583c"
      },
      "execution_count": null,
      "outputs": [
        {
          "output_type": "stream",
          "name": "stdout",
          "text": [
            "Pepsi, the choice of a new generation!\n"
          ]
        }
      ]
    },
    {
      "cell_type": "code",
      "source": [
        "df_pepsi.head(5)"
      ],
      "metadata": {
        "colab": {
          "base_uri": "https://localhost:8080/",
          "height": 206
        },
        "id": "UvGnOfg-LYrG",
        "outputId": "e2e13c80-1241-49e1-98b1-b5bd606b4f9a"
      },
      "execution_count": null,
      "outputs": [
        {
          "output_type": "execute_result",
          "data": {
            "text/plain": [
              "   Product Name  Year Launched  Status Region Served     Category  \\\n",
              "0         Pepsi           1893  Active     Worldwide         Cola   \n",
              "1  Mountain Dew           1940  Active     Worldwide  Citrus Soda   \n",
              "2         Lay's           1932  Active     Worldwide        Snack   \n",
              "3       Doritos           1964  Active     Worldwide        Snack   \n",
              "4     Tropicana           1947  Active     Worldwide    Beverages   \n",
              "\n",
              "             Ownership  \n",
              "0              PepsiCo  \n",
              "1              PepsiCo  \n",
              "2  Frito-Lay (PepsiCo)  \n",
              "3  Frito-Lay (PepsiCo)  \n",
              "4  Tropicana (PepsiCo)  "
            ],
            "text/html": [
              "\n",
              "\n",
              "  <div id=\"df-6d4d1ddc-9858-443a-8cfb-f8b7c74a7b39\">\n",
              "    <div class=\"colab-df-container\">\n",
              "      <div>\n",
              "<style scoped>\n",
              "    .dataframe tbody tr th:only-of-type {\n",
              "        vertical-align: middle;\n",
              "    }\n",
              "\n",
              "    .dataframe tbody tr th {\n",
              "        vertical-align: top;\n",
              "    }\n",
              "\n",
              "    .dataframe thead th {\n",
              "        text-align: right;\n",
              "    }\n",
              "</style>\n",
              "<table border=\"1\" class=\"dataframe\">\n",
              "  <thead>\n",
              "    <tr style=\"text-align: right;\">\n",
              "      <th></th>\n",
              "      <th>Product Name</th>\n",
              "      <th>Year Launched</th>\n",
              "      <th>Status</th>\n",
              "      <th>Region Served</th>\n",
              "      <th>Category</th>\n",
              "      <th>Ownership</th>\n",
              "    </tr>\n",
              "  </thead>\n",
              "  <tbody>\n",
              "    <tr>\n",
              "      <th>0</th>\n",
              "      <td>Pepsi</td>\n",
              "      <td>1893</td>\n",
              "      <td>Active</td>\n",
              "      <td>Worldwide</td>\n",
              "      <td>Cola</td>\n",
              "      <td>PepsiCo</td>\n",
              "    </tr>\n",
              "    <tr>\n",
              "      <th>1</th>\n",
              "      <td>Mountain Dew</td>\n",
              "      <td>1940</td>\n",
              "      <td>Active</td>\n",
              "      <td>Worldwide</td>\n",
              "      <td>Citrus Soda</td>\n",
              "      <td>PepsiCo</td>\n",
              "    </tr>\n",
              "    <tr>\n",
              "      <th>2</th>\n",
              "      <td>Lay's</td>\n",
              "      <td>1932</td>\n",
              "      <td>Active</td>\n",
              "      <td>Worldwide</td>\n",
              "      <td>Snack</td>\n",
              "      <td>Frito-Lay (PepsiCo)</td>\n",
              "    </tr>\n",
              "    <tr>\n",
              "      <th>3</th>\n",
              "      <td>Doritos</td>\n",
              "      <td>1964</td>\n",
              "      <td>Active</td>\n",
              "      <td>Worldwide</td>\n",
              "      <td>Snack</td>\n",
              "      <td>Frito-Lay (PepsiCo)</td>\n",
              "    </tr>\n",
              "    <tr>\n",
              "      <th>4</th>\n",
              "      <td>Tropicana</td>\n",
              "      <td>1947</td>\n",
              "      <td>Active</td>\n",
              "      <td>Worldwide</td>\n",
              "      <td>Beverages</td>\n",
              "      <td>Tropicana (PepsiCo)</td>\n",
              "    </tr>\n",
              "  </tbody>\n",
              "</table>\n",
              "</div>\n",
              "      <button class=\"colab-df-convert\" onclick=\"convertToInteractive('df-6d4d1ddc-9858-443a-8cfb-f8b7c74a7b39')\"\n",
              "              title=\"Convert this dataframe to an interactive table.\"\n",
              "              style=\"display:none;\">\n",
              "\n",
              "  <svg xmlns=\"http://www.w3.org/2000/svg\" height=\"24px\"viewBox=\"0 0 24 24\"\n",
              "       width=\"24px\">\n",
              "    <path d=\"M0 0h24v24H0V0z\" fill=\"none\"/>\n",
              "    <path d=\"M18.56 5.44l.94 2.06.94-2.06 2.06-.94-2.06-.94-.94-2.06-.94 2.06-2.06.94zm-11 1L8.5 8.5l.94-2.06 2.06-.94-2.06-.94L8.5 2.5l-.94 2.06-2.06.94zm10 10l.94 2.06.94-2.06 2.06-.94-2.06-.94-.94-2.06-.94 2.06-2.06.94z\"/><path d=\"M17.41 7.96l-1.37-1.37c-.4-.4-.92-.59-1.43-.59-.52 0-1.04.2-1.43.59L10.3 9.45l-7.72 7.72c-.78.78-.78 2.05 0 2.83L4 21.41c.39.39.9.59 1.41.59.51 0 1.02-.2 1.41-.59l7.78-7.78 2.81-2.81c.8-.78.8-2.07 0-2.86zM5.41 20L4 18.59l7.72-7.72 1.47 1.35L5.41 20z\"/>\n",
              "  </svg>\n",
              "      </button>\n",
              "\n",
              "\n",
              "\n",
              "    <div id=\"df-f8b80d60-eece-44fd-806e-f2c4ddaa25af\">\n",
              "      <button class=\"colab-df-quickchart\" onclick=\"quickchart('df-f8b80d60-eece-44fd-806e-f2c4ddaa25af')\"\n",
              "              title=\"Suggest charts.\"\n",
              "              style=\"display:none;\">\n",
              "\n",
              "<svg xmlns=\"http://www.w3.org/2000/svg\" height=\"24px\"viewBox=\"0 0 24 24\"\n",
              "     width=\"24px\">\n",
              "    <g>\n",
              "        <path d=\"M19 3H5c-1.1 0-2 .9-2 2v14c0 1.1.9 2 2 2h14c1.1 0 2-.9 2-2V5c0-1.1-.9-2-2-2zM9 17H7v-7h2v7zm4 0h-2V7h2v10zm4 0h-2v-4h2v4z\"/>\n",
              "    </g>\n",
              "</svg>\n",
              "      </button>\n",
              "    </div>\n",
              "\n",
              "<style>\n",
              "  .colab-df-quickchart {\n",
              "    background-color: #E8F0FE;\n",
              "    border: none;\n",
              "    border-radius: 50%;\n",
              "    cursor: pointer;\n",
              "    display: none;\n",
              "    fill: #1967D2;\n",
              "    height: 32px;\n",
              "    padding: 0 0 0 0;\n",
              "    width: 32px;\n",
              "  }\n",
              "\n",
              "  .colab-df-quickchart:hover {\n",
              "    background-color: #E2EBFA;\n",
              "    box-shadow: 0px 1px 2px rgba(60, 64, 67, 0.3), 0px 1px 3px 1px rgba(60, 64, 67, 0.15);\n",
              "    fill: #174EA6;\n",
              "  }\n",
              "\n",
              "  [theme=dark] .colab-df-quickchart {\n",
              "    background-color: #3B4455;\n",
              "    fill: #D2E3FC;\n",
              "  }\n",
              "\n",
              "  [theme=dark] .colab-df-quickchart:hover {\n",
              "    background-color: #434B5C;\n",
              "    box-shadow: 0px 1px 3px 1px rgba(0, 0, 0, 0.15);\n",
              "    filter: drop-shadow(0px 1px 2px rgba(0, 0, 0, 0.3));\n",
              "    fill: #FFFFFF;\n",
              "  }\n",
              "</style>\n",
              "\n",
              "    <script>\n",
              "      async function quickchart(key) {\n",
              "        const containerElement = document.querySelector('#' + key);\n",
              "        const charts = await google.colab.kernel.invokeFunction(\n",
              "            'suggestCharts', [key], {});\n",
              "      }\n",
              "    </script>\n",
              "\n",
              "      <script>\n",
              "\n",
              "function displayQuickchartButton(domScope) {\n",
              "  let quickchartButtonEl =\n",
              "    domScope.querySelector('#df-f8b80d60-eece-44fd-806e-f2c4ddaa25af button.colab-df-quickchart');\n",
              "  quickchartButtonEl.style.display =\n",
              "    google.colab.kernel.accessAllowed ? 'block' : 'none';\n",
              "}\n",
              "\n",
              "        displayQuickchartButton(document);\n",
              "      </script>\n",
              "      <style>\n",
              "    .colab-df-container {\n",
              "      display:flex;\n",
              "      flex-wrap:wrap;\n",
              "      gap: 12px;\n",
              "    }\n",
              "\n",
              "    .colab-df-convert {\n",
              "      background-color: #E8F0FE;\n",
              "      border: none;\n",
              "      border-radius: 50%;\n",
              "      cursor: pointer;\n",
              "      display: none;\n",
              "      fill: #1967D2;\n",
              "      height: 32px;\n",
              "      padding: 0 0 0 0;\n",
              "      width: 32px;\n",
              "    }\n",
              "\n",
              "    .colab-df-convert:hover {\n",
              "      background-color: #E2EBFA;\n",
              "      box-shadow: 0px 1px 2px rgba(60, 64, 67, 0.3), 0px 1px 3px 1px rgba(60, 64, 67, 0.15);\n",
              "      fill: #174EA6;\n",
              "    }\n",
              "\n",
              "    [theme=dark] .colab-df-convert {\n",
              "      background-color: #3B4455;\n",
              "      fill: #D2E3FC;\n",
              "    }\n",
              "\n",
              "    [theme=dark] .colab-df-convert:hover {\n",
              "      background-color: #434B5C;\n",
              "      box-shadow: 0px 1px 3px 1px rgba(0, 0, 0, 0.15);\n",
              "      filter: drop-shadow(0px 1px 2px rgba(0, 0, 0, 0.3));\n",
              "      fill: #FFFFFF;\n",
              "    }\n",
              "  </style>\n",
              "\n",
              "      <script>\n",
              "        const buttonEl =\n",
              "          document.querySelector('#df-6d4d1ddc-9858-443a-8cfb-f8b7c74a7b39 button.colab-df-convert');\n",
              "        buttonEl.style.display =\n",
              "          google.colab.kernel.accessAllowed ? 'block' : 'none';\n",
              "\n",
              "        async function convertToInteractive(key) {\n",
              "          const element = document.querySelector('#df-6d4d1ddc-9858-443a-8cfb-f8b7c74a7b39');\n",
              "          const dataTable =\n",
              "            await google.colab.kernel.invokeFunction('convertToInteractive',\n",
              "                                                     [key], {});\n",
              "          if (!dataTable) return;\n",
              "\n",
              "          const docLinkHtml = 'Like what you see? Visit the ' +\n",
              "            '<a target=\"_blank\" href=https://colab.research.google.com/notebooks/data_table.ipynb>data table notebook</a>'\n",
              "            + ' to learn more about interactive tables.';\n",
              "          element.innerHTML = '';\n",
              "          dataTable['output_type'] = 'display_data';\n",
              "          await google.colab.output.renderOutput(dataTable, element);\n",
              "          const docLink = document.createElement('div');\n",
              "          docLink.innerHTML = docLinkHtml;\n",
              "          element.appendChild(docLink);\n",
              "        }\n",
              "      </script>\n",
              "    </div>\n",
              "  </div>\n"
            ]
          },
          "metadata": {},
          "execution_count": 29
        }
      ]
    },
    {
      "cell_type": "code",
      "source": [
        "df_pepsi.describe"
      ],
      "metadata": {
        "colab": {
          "base_uri": "https://localhost:8080/"
        },
        "id": "MOlHaJHRLa8g",
        "outputId": "fe4886f4-dda9-4b61-a8b1-02834f8be3e8"
      },
      "execution_count": null,
      "outputs": [
        {
          "output_type": "execute_result",
          "data": {
            "text/plain": [
              "<bound method NDFrame.describe of               Product Name  Year Launched        Status  Region Served  \\\n",
              "0                    Pepsi           1893        Active      Worldwide   \n",
              "1             Mountain Dew           1940        Active      Worldwide   \n",
              "2                    Lay's           1932        Active      Worldwide   \n",
              "3                  Doritos           1964        Active      Worldwide   \n",
              "4                Tropicana           1947        Active      Worldwide   \n",
              "..                     ...            ...           ...            ...   \n",
              "218    Gatorade G2 Perform           2009  Discontinued  North America   \n",
              "219            Gatorade AM           2004  Discontinued  North America   \n",
              "220      Gatorade X-Factor           2010  Discontinued  North America   \n",
              "221  Tropicana Coco Blends           2016  Discontinued  North America   \n",
              "222  Starbucks Iced Coffee           1994        Active  North America   \n",
              "\n",
              "          Category              Ownership  \n",
              "0             Cola                PepsiCo  \n",
              "1      Citrus Soda                PepsiCo  \n",
              "2            Snack    Frito-Lay (PepsiCo)  \n",
              "3            Snack    Frito-Lay (PepsiCo)  \n",
              "4        Beverages    Tropicana (PepsiCo)  \n",
              "..             ...                    ...  \n",
              "218   Sports Drink                PepsiCo  \n",
              "219   Sports Drink                PepsiCo  \n",
              "220   Sports Drink                PepsiCo  \n",
              "221  Coconut Water    Tropicana (PepsiCo)  \n",
              "222         Coffee  PepsiCo (partnership)  \n",
              "\n",
              "[223 rows x 6 columns]>"
            ]
          },
          "metadata": {},
          "execution_count": 30
        }
      ]
    },
    {
      "cell_type": "code",
      "source": [
        "df_pepsi.isnull().values.any()\n"
      ],
      "metadata": {
        "colab": {
          "base_uri": "https://localhost:8080/"
        },
        "id": "RBPbOukCL9-0",
        "outputId": "c9b32b19-cb77-4f0a-d3fd-17233854d606"
      },
      "execution_count": null,
      "outputs": [
        {
          "output_type": "execute_result",
          "data": {
            "text/plain": [
              "False"
            ]
          },
          "metadata": {},
          "execution_count": 31
        }
      ]
    },
    {
      "cell_type": "code",
      "source": [
        "df_pepsi.info()"
      ],
      "metadata": {
        "colab": {
          "base_uri": "https://localhost:8080/"
        },
        "id": "GQ0kJPqyMkaK",
        "outputId": "a47bb9a1-c75e-480c-8706-5bce8302eb88"
      },
      "execution_count": null,
      "outputs": [
        {
          "output_type": "stream",
          "name": "stdout",
          "text": [
            "<class 'pandas.core.frame.DataFrame'>\n",
            "RangeIndex: 223 entries, 0 to 222\n",
            "Data columns (total 6 columns):\n",
            " #   Column         Non-Null Count  Dtype \n",
            "---  ------         --------------  ----- \n",
            " 0   Product Name   223 non-null    object\n",
            " 1   Year Launched  223 non-null    int64 \n",
            " 2   Status         223 non-null    object\n",
            " 3   Region Served  223 non-null    object\n",
            " 4   Category       223 non-null    object\n",
            " 5   Ownership      223 non-null    object\n",
            "dtypes: int64(1), object(5)\n",
            "memory usage: 10.6+ KB\n"
          ]
        }
      ]
    },
    {
      "cell_type": "code",
      "source": [
        "plt.hist(df_pepsi[\"Year Launched\"], bins=np.arange(1860, 2030, 10), edgecolor=\"black\")\n",
        "plt.title('Pepsi Products Released per Decade')\n",
        "plt.ylabel('Number of Products')\n",
        "plt.xlabel('Decade')"
      ],
      "metadata": {
        "colab": {
          "base_uri": "https://localhost:8080/",
          "height": 490
        },
        "id": "kttXJt2uMvxU",
        "outputId": "53610bea-630f-4938-dfa5-6f9820a97cf9"
      },
      "execution_count": null,
      "outputs": [
        {
          "output_type": "execute_result",
          "data": {
            "text/plain": [
              "Text(0.5, 0, 'Decade')"
            ]
          },
          "metadata": {},
          "execution_count": 33
        },
        {
          "output_type": "display_data",
          "data": {
            "text/plain": [
              "<Figure size 640x480 with 1 Axes>"
            ],
            "image/png": "[encoded data removed]"
          },
          "metadata": {}
        }
      ]
    },
    {
      "cell_type": "code",
      "source": [],
      "metadata": {
        "id": "2NZDi_KhQv1g"
      },
      "execution_count": null,
      "outputs": []
    }
  ]
}